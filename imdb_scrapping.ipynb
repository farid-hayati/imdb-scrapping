{
 "cells": [
  {
   "cell_type": "code",
   "execution_count": 18,
   "metadata": {},
   "outputs": [],
   "source": [
    "# web-scrapping packages\n",
    "import requests\n",
    "from bs4 import BeautifulSoup\n",
    "\n",
    "# data management packages\n",
    "import pandas as pd\n",
    "\n",
    "# hide warnings\n",
    "import warnings\n",
    "warnings.simplefilter(action='ignore', category=FutureWarning)\n",
    "\n",
    "# eda packages\n",
    "import numpy as np\n",
    "import matplotlib.pylab as plt\n",
    "plt.style.use('ggplot')\n",
    "import seaborn as sns"
   ]
  },
  {
   "cell_type": "markdown",
   "metadata": {},
   "source": [
    "Define Functions"
   ]
  },
  {
   "cell_type": "code",
   "execution_count": 15,
   "metadata": {},
   "outputs": [],
   "source": [
    "# scraps data using BeautifulSoup\n",
    "\n",
    "def make_soup(url):\n",
    "    html_data = requests.get(url)\n",
    "    html_data.raise_for_status()\n",
    "    soup = BeautifulSoup(html_data.text, 'html').find(\"div\", class_=\"lister-list\")\n",
    "\n",
    "    return soup"
   ]
  },
  {
   "cell_type": "code",
   "execution_count": 11,
   "metadata": {},
   "outputs": [],
   "source": [
    "# takes a soup (scrapped data) from a page, and produces a dataframe\n",
    "\n",
    "def make_dataframe(soup):\n",
    "    page_data = pd.DataFrame(columns=[\"Title\", \"Year\", \"Certificate\", \"Runtime\", \"Genre\", \"IMDB\", \"Metascore\", \"Director\", \"Votes\", \"Gross\"])\n",
    "\n",
    "    for row in soup.find_all(\"div\", class_=\"lister-item mode-advanced\"):\n",
    "        col = row.find(\"div\", class_=\"lister-item-content\")\n",
    "\n",
    "        #scrapping the webpage\n",
    "        title = col.h3.a.text\n",
    "        year = col.h3.find(\"span\", class_=\"lister-item-year\").text\n",
    "        runtime = col.find_all(\"p\")[0].find(class_=\"runtime\").text\n",
    "        genre = col.find_all(\"p\")[0].find(class_=\"genre\").text.strip()\n",
    "        director = col.find_all(\"p\")[2].a.text\n",
    "        \n",
    "        cert = col.find_all(\"p\")[0].find(class_=\"certificate\")\n",
    "        if cert:\n",
    "            certificate = cert.text\n",
    "        else:\n",
    "            certificate = None\n",
    "        \n",
    "        try:\n",
    "            imdb_score = col.find(class_=\"ratings-bar\").find(class_=\"inline-block ratings-imdb-rating\").strong.text\n",
    "        except AttributeError:\n",
    "            imdb_score = None\n",
    "\n",
    "        try:\n",
    "            meta_score = col.find(class_=\"ratings-bar\").find(class_=\"inline-block ratings-metascore\").span.text\n",
    "        except AttributeError:\n",
    "            meta_score = None\n",
    "        \n",
    "        if col.find_all(\"p\")[3].find_all(\"span\")[0].text == \"Votes:\":\n",
    "            try:\n",
    "                votes = col.find_all(\"p\")[3].find_all(\"span\")[1].text\n",
    "            except IndexError:\n",
    "                votes = None\n",
    "        else:\n",
    "            votes = None\n",
    "\n",
    "        if col.find_all(\"p\")[3].find_all(\"span\")[-2].text == \"Gross:\":\n",
    "            try:\n",
    "                gross = col.find_all(\"p\")[3].find_all(\"span\")[-1].text\n",
    "            except IndexError:\n",
    "                gross = None\n",
    "        else:\n",
    "            gross = None\n",
    "\n",
    "        # save data in dataframe\n",
    "        page_data = page_data.append({\n",
    "            \"Title\":title,\n",
    "            \"Year\":year,\n",
    "            \"Certificate\":certificate,\n",
    "            \"Runtime\":runtime,\n",
    "            \"Genre\":genre,\n",
    "            \"IMDB\":imdb_score,\n",
    "            \"Metascore\":meta_score,\n",
    "            \"Director\":director,\n",
    "            \"Votes\":votes,\n",
    "            \"Gross\":gross\n",
    "        }, ignore_index=True)\n",
    "\n",
    "    return page_data"
   ]
  },
  {
   "cell_type": "markdown",
   "metadata": {},
   "source": [
    "Multiple Pages"
   ]
  },
  {
   "cell_type": "code",
   "execution_count": 12,
   "metadata": {},
   "outputs": [],
   "source": [
    "# page1 = \"https://www.imdb.com/search/title/?title_type=movie&genres=animation&sort=boxoffice_gross_us,desc&explore=title_type,genres\"\n",
    "# page2 = \"https://www.imdb.com/search/title/?title_type=movie&genres=animation&sort=boxoffice_gross_us,desc&start=51&explore=title_type,genres&ref_=adv_nxt\"\n",
    "# page3 = \"https://www.imdb.com/search/title/?title_type=movie&genres=animation&sort=boxoffice_gross_us,desc&start=101&explore=title_type,genres&ref_=adv_nxt\""
   ]
  },
  {
   "cell_type": "code",
   "execution_count": 13,
   "metadata": {},
   "outputs": [
    {
     "name": "stdout",
     "output_type": "stream",
     "text": [
      "11 pages\n"
     ]
    },
    {
     "data": {
      "text/plain": [
       "['https://www.imdb.com/search/title/?title_type=movie&genres=animation&sort=boxoffice_gross_us,desc&explore=title_type,genres',\n",
       " 'https://www.imdb.com/search/title/?title_type=movie&genres=animation&sort=boxoffice_gross_us,desc&start=51&explore=title_type,genres&ref_=adv_nxt',\n",
       " 'https://www.imdb.com/search/title/?title_type=movie&genres=animation&sort=boxoffice_gross_us,desc&start=101&explore=title_type,genres&ref_=adv_nxt',\n",
       " 'https://www.imdb.com/search/title/?title_type=movie&genres=animation&sort=boxoffice_gross_us,desc&start=151&explore=title_type,genres&ref_=adv_nxt',\n",
       " 'https://www.imdb.com/search/title/?title_type=movie&genres=animation&sort=boxoffice_gross_us,desc&start=201&explore=title_type,genres&ref_=adv_nxt',\n",
       " 'https://www.imdb.com/search/title/?title_type=movie&genres=animation&sort=boxoffice_gross_us,desc&start=251&explore=title_type,genres&ref_=adv_nxt',\n",
       " 'https://www.imdb.com/search/title/?title_type=movie&genres=animation&sort=boxoffice_gross_us,desc&start=301&explore=title_type,genres&ref_=adv_nxt',\n",
       " 'https://www.imdb.com/search/title/?title_type=movie&genres=animation&sort=boxoffice_gross_us,desc&start=351&explore=title_type,genres&ref_=adv_nxt',\n",
       " 'https://www.imdb.com/search/title/?title_type=movie&genres=animation&sort=boxoffice_gross_us,desc&start=401&explore=title_type,genres&ref_=adv_nxt',\n",
       " 'https://www.imdb.com/search/title/?title_type=movie&genres=animation&sort=boxoffice_gross_us,desc&start=451&explore=title_type,genres&ref_=adv_nxt',\n",
       " 'https://www.imdb.com/search/title/?title_type=movie&genres=animation&sort=boxoffice_gross_us,desc&start=501&explore=title_type,genres&ref_=adv_nxt']"
      ]
     },
     "execution_count": 13,
     "metadata": {},
     "output_type": "execute_result"
    }
   ],
   "source": [
    "# preparing urls\n",
    "\n",
    "# since url for 1st page is different from the rest, the url is included 1st in list\n",
    "urls = [\"https://www.imdb.com/search/title/?title_type=movie&genres=animation&sort=boxoffice_gross_us,desc&explore=title_type,genres\"]\n",
    "\n",
    "# looping to create the rest of the urls\n",
    "for i in range(51,502,50):\n",
    "    url = \"https://www.imdb.com/search/title/?title_type=movie&genres=animation&sort=boxoffice_gross_us,desc&start=\" +str(i)+ \"&explore=title_type,genres&ref_=adv_nxt\"\n",
    "    urls.append(url)\n",
    "\n",
    "print(str(len(urls)) + \" pages\")\n",
    "urls"
   ]
  },
  {
   "cell_type": "code",
   "execution_count": 55,
   "metadata": {},
   "outputs": [
    {
     "name": "stdout",
     "output_type": "stream",
     "text": [
      "Page 0 done\n",
      "Page 1 done\n",
      "Page 2 done\n",
      "Page 3 done\n",
      "Page 4 done\n",
      "Page 5 done\n",
      "Page 6 done\n",
      "Page 7 done\n",
      "Page 8 done\n",
      "Page 9 done\n",
      "Page 10 done\n"
     ]
    },
    {
     "data": {
      "text/html": [
       "<div>\n",
       "<style scoped>\n",
       "    .dataframe tbody tr th:only-of-type {\n",
       "        vertical-align: middle;\n",
       "    }\n",
       "\n",
       "    .dataframe tbody tr th {\n",
       "        vertical-align: top;\n",
       "    }\n",
       "\n",
       "    .dataframe thead th {\n",
       "        text-align: right;\n",
       "    }\n",
       "</style>\n",
       "<table border=\"1\" class=\"dataframe\">\n",
       "  <thead>\n",
       "    <tr style=\"text-align: right;\">\n",
       "      <th></th>\n",
       "      <th>Title</th>\n",
       "      <th>Year</th>\n",
       "      <th>Certificate</th>\n",
       "      <th>Runtime</th>\n",
       "      <th>Genre</th>\n",
       "      <th>IMDB</th>\n",
       "      <th>Metascore</th>\n",
       "      <th>Director</th>\n",
       "      <th>Votes</th>\n",
       "      <th>Gross</th>\n",
       "    </tr>\n",
       "  </thead>\n",
       "  <tbody>\n",
       "    <tr>\n",
       "      <th>0</th>\n",
       "      <td>Incredibles 2</td>\n",
       "      <td>(2018)</td>\n",
       "      <td>P13</td>\n",
       "      <td>118 min</td>\n",
       "      <td>Animation, Action, Adventure</td>\n",
       "      <td>7.6</td>\n",
       "      <td>80</td>\n",
       "      <td>Brad Bird</td>\n",
       "      <td>314,015</td>\n",
       "      <td>$608.58M</td>\n",
       "    </tr>\n",
       "    <tr>\n",
       "      <th>1</th>\n",
       "      <td>The Lion King</td>\n",
       "      <td>(2019)</td>\n",
       "      <td>P13</td>\n",
       "      <td>118 min</td>\n",
       "      <td>Animation, Adventure, Drama</td>\n",
       "      <td>6.8</td>\n",
       "      <td>55</td>\n",
       "      <td>Jon Favreau</td>\n",
       "      <td>256,869</td>\n",
       "      <td>$543.64M</td>\n",
       "    </tr>\n",
       "    <tr>\n",
       "      <th>2</th>\n",
       "      <td>Finding Dory</td>\n",
       "      <td>(2016)</td>\n",
       "      <td>U</td>\n",
       "      <td>97 min</td>\n",
       "      <td>Animation, Adventure, Comedy</td>\n",
       "      <td>7.3</td>\n",
       "      <td>77</td>\n",
       "      <td>Andrew Stanton</td>\n",
       "      <td>289,989</td>\n",
       "      <td>$486.30M</td>\n",
       "    </tr>\n",
       "    <tr>\n",
       "      <th>3</th>\n",
       "      <td>Frozen II</td>\n",
       "      <td>(2019)</td>\n",
       "      <td>P13</td>\n",
       "      <td>103 min</td>\n",
       "      <td>Animation, Adventure, Comedy</td>\n",
       "      <td>6.8</td>\n",
       "      <td>64</td>\n",
       "      <td>Chris Buck</td>\n",
       "      <td>183,537</td>\n",
       "      <td>$477.37M</td>\n",
       "    </tr>\n",
       "    <tr>\n",
       "      <th>4</th>\n",
       "      <td>Shrek 2</td>\n",
       "      <td>(2004)</td>\n",
       "      <td>U</td>\n",
       "      <td>93 min</td>\n",
       "      <td>Animation, Adventure, Comedy</td>\n",
       "      <td>7.3</td>\n",
       "      <td>75</td>\n",
       "      <td>Andrew Adamson</td>\n",
       "      <td>485,209</td>\n",
       "      <td>$436.47M</td>\n",
       "    </tr>\n",
       "    <tr>\n",
       "      <th>...</th>\n",
       "      <td>...</td>\n",
       "      <td>...</td>\n",
       "      <td>...</td>\n",
       "      <td>...</td>\n",
       "      <td>...</td>\n",
       "      <td>...</td>\n",
       "      <td>...</td>\n",
       "      <td>...</td>\n",
       "      <td>...</td>\n",
       "      <td>...</td>\n",
       "    </tr>\n",
       "    <tr>\n",
       "      <th>545</th>\n",
       "      <td>Mind Game</td>\n",
       "      <td>(I) (2004)</td>\n",
       "      <td>None</td>\n",
       "      <td>103 min</td>\n",
       "      <td>Animation, Adventure, Comedy</td>\n",
       "      <td>7.7</td>\n",
       "      <td>66</td>\n",
       "      <td>Masaaki Yuasa</td>\n",
       "      <td>10,196</td>\n",
       "      <td>$0.04M</td>\n",
       "    </tr>\n",
       "    <tr>\n",
       "      <th>546</th>\n",
       "      <td>Le grand méchant renard et autres contes...</td>\n",
       "      <td>(2017)</td>\n",
       "      <td>G</td>\n",
       "      <td>83 min</td>\n",
       "      <td>Animation, Adventure, Comedy</td>\n",
       "      <td>7.4</td>\n",
       "      <td>73</td>\n",
       "      <td>Patrick Imbert</td>\n",
       "      <td>3,454</td>\n",
       "      <td>$0.04M</td>\n",
       "    </tr>\n",
       "    <tr>\n",
       "      <th>547</th>\n",
       "      <td>The Films of the Brothers Quay</td>\n",
       "      <td></td>\n",
       "      <td>None</td>\n",
       "      <td>78 min</td>\n",
       "      <td>Documentary, Animation</td>\n",
       "      <td>None</td>\n",
       "      <td>None</td>\n",
       "      <td>Stephen Quay</td>\n",
       "      <td>None</td>\n",
       "      <td>$0.04M</td>\n",
       "    </tr>\n",
       "    <tr>\n",
       "      <th>548</th>\n",
       "      <td>Bai She: Yuan qi</td>\n",
       "      <td>(2019)</td>\n",
       "      <td>None</td>\n",
       "      <td>99 min</td>\n",
       "      <td>Animation, Action, Adventure</td>\n",
       "      <td>7.0</td>\n",
       "      <td>60</td>\n",
       "      <td>Amp Wong</td>\n",
       "      <td>4,894</td>\n",
       "      <td>$0.03M</td>\n",
       "    </tr>\n",
       "    <tr>\n",
       "      <th>549</th>\n",
       "      <td>Rakuen Tsuiho: Expelled from Paradise</td>\n",
       "      <td>(2014)</td>\n",
       "      <td>None</td>\n",
       "      <td>104 min</td>\n",
       "      <td>Animation, Action, Adventure</td>\n",
       "      <td>6.6</td>\n",
       "      <td>None</td>\n",
       "      <td>Seiji Mizushima</td>\n",
       "      <td>1,798</td>\n",
       "      <td>$0.03M</td>\n",
       "    </tr>\n",
       "  </tbody>\n",
       "</table>\n",
       "<p>550 rows × 10 columns</p>\n",
       "</div>"
      ],
      "text/plain": [
       "                                           Title        Year Certificate  \\\n",
       "0                                  Incredibles 2      (2018)         P13   \n",
       "1                                  The Lion King      (2019)         P13   \n",
       "2                                   Finding Dory      (2016)           U   \n",
       "3                                      Frozen II      (2019)         P13   \n",
       "4                                        Shrek 2      (2004)           U   \n",
       "..                                           ...         ...         ...   \n",
       "545                                    Mind Game  (I) (2004)        None   \n",
       "546  Le grand méchant renard et autres contes...      (2017)           G   \n",
       "547               The Films of the Brothers Quay                    None   \n",
       "548                             Bai She: Yuan qi      (2019)        None   \n",
       "549        Rakuen Tsuiho: Expelled from Paradise      (2014)        None   \n",
       "\n",
       "     Runtime                         Genre  IMDB   Metascore         Director  \\\n",
       "0    118 min  Animation, Action, Adventure   7.6  80                Brad Bird   \n",
       "1    118 min   Animation, Adventure, Drama   6.8  55              Jon Favreau   \n",
       "2     97 min  Animation, Adventure, Comedy   7.3  77           Andrew Stanton   \n",
       "3    103 min  Animation, Adventure, Comedy   6.8  64               Chris Buck   \n",
       "4     93 min  Animation, Adventure, Comedy   7.3  75           Andrew Adamson   \n",
       "..       ...                           ...   ...         ...              ...   \n",
       "545  103 min  Animation, Adventure, Comedy   7.7  66            Masaaki Yuasa   \n",
       "546   83 min  Animation, Adventure, Comedy   7.4  73           Patrick Imbert   \n",
       "547   78 min        Documentary, Animation  None        None     Stephen Quay   \n",
       "548   99 min  Animation, Action, Adventure   7.0  60                 Amp Wong   \n",
       "549  104 min  Animation, Action, Adventure   6.6        None  Seiji Mizushima   \n",
       "\n",
       "       Votes     Gross  \n",
       "0    314,015  $608.58M  \n",
       "1    256,869  $543.64M  \n",
       "2    289,989  $486.30M  \n",
       "3    183,537  $477.37M  \n",
       "4    485,209  $436.47M  \n",
       "..       ...       ...  \n",
       "545   10,196    $0.04M  \n",
       "546    3,454    $0.04M  \n",
       "547     None    $0.04M  \n",
       "548    4,894    $0.03M  \n",
       "549    1,798    $0.03M  \n",
       "\n",
       "[550 rows x 10 columns]"
      ]
     },
     "execution_count": 55,
     "metadata": {},
     "output_type": "execute_result"
    }
   ],
   "source": [
    "data_raw = pd.DataFrame()\n",
    "\n",
    "for i,url in enumerate(urls):\n",
    "    soup = make_soup(url)\n",
    "    data_new = make_dataframe(soup)\n",
    "    data_raw = pd.concat([data_raw, data_new], ignore_index=True)\n",
    "\n",
    "    print(\"Page \" +str(i)+ \" done\")\n",
    "\n",
    "data_raw"
   ]
  },
  {
   "cell_type": "markdown",
   "metadata": {},
   "source": [
    "Data Cleaning\n",
    "- Gross: remove $ sign \n",
    "- Year: remove () \n",
    "- Runtime: remove min \n",
    "- Year, Runtime, IMDB, Metascore, Votes, Gross: change data type "
   ]
  },
  {
   "cell_type": "code",
   "execution_count": null,
   "metadata": {},
   "outputs": [],
   "source": [
    "# save raw data before performing data cleaning\n",
    "data_raw.to_csv(\"imdb_animation_data_raw.csv\")\n",
    "\n",
    "# make a copy\n",
    "data_cleaned = data_raw.copy()"
   ]
  },
  {
   "cell_type": "code",
   "execution_count": null,
   "metadata": {},
   "outputs": [
    {
     "data": {
      "text/html": [
       "<div>\n",
       "<style scoped>\n",
       "    .dataframe tbody tr th:only-of-type {\n",
       "        vertical-align: middle;\n",
       "    }\n",
       "\n",
       "    .dataframe tbody tr th {\n",
       "        vertical-align: top;\n",
       "    }\n",
       "\n",
       "    .dataframe thead th {\n",
       "        text-align: right;\n",
       "    }\n",
       "</style>\n",
       "<table border=\"1\" class=\"dataframe\">\n",
       "  <thead>\n",
       "    <tr style=\"text-align: right;\">\n",
       "      <th></th>\n",
       "      <th>Title</th>\n",
       "      <th>Year</th>\n",
       "      <th>Certificate</th>\n",
       "      <th>Runtime</th>\n",
       "      <th>Genre</th>\n",
       "      <th>IMDB</th>\n",
       "      <th>Metascore</th>\n",
       "      <th>Director</th>\n",
       "      <th>Votes</th>\n",
       "      <th>Gross</th>\n",
       "    </tr>\n",
       "  </thead>\n",
       "  <tbody>\n",
       "    <tr>\n",
       "      <th>545</th>\n",
       "      <td>Mind Game</td>\n",
       "      <td>2004</td>\n",
       "      <td>None</td>\n",
       "      <td>103</td>\n",
       "      <td>Animation, Adventure, Comedy</td>\n",
       "      <td>7.7</td>\n",
       "      <td>66</td>\n",
       "      <td>Masaaki Yuasa</td>\n",
       "      <td>10196</td>\n",
       "      <td>0.04</td>\n",
       "    </tr>\n",
       "    <tr>\n",
       "      <th>546</th>\n",
       "      <td>Le grand méchant renard et autres contes...</td>\n",
       "      <td>2017</td>\n",
       "      <td>G</td>\n",
       "      <td>83</td>\n",
       "      <td>Animation, Adventure, Comedy</td>\n",
       "      <td>7.4</td>\n",
       "      <td>73</td>\n",
       "      <td>Patrick Imbert</td>\n",
       "      <td>3454</td>\n",
       "      <td>0.04</td>\n",
       "    </tr>\n",
       "    <tr>\n",
       "      <th>547</th>\n",
       "      <td>The Films of the Brothers Quay</td>\n",
       "      <td></td>\n",
       "      <td>None</td>\n",
       "      <td>78</td>\n",
       "      <td>Documentary, Animation</td>\n",
       "      <td>None</td>\n",
       "      <td>None</td>\n",
       "      <td>Stephen Quay</td>\n",
       "      <td>None</td>\n",
       "      <td>0.04</td>\n",
       "    </tr>\n",
       "    <tr>\n",
       "      <th>548</th>\n",
       "      <td>Bai She: Yuan qi</td>\n",
       "      <td>2019</td>\n",
       "      <td>None</td>\n",
       "      <td>99</td>\n",
       "      <td>Animation, Action, Adventure</td>\n",
       "      <td>7.0</td>\n",
       "      <td>60</td>\n",
       "      <td>Amp Wong</td>\n",
       "      <td>4890</td>\n",
       "      <td>0.03</td>\n",
       "    </tr>\n",
       "    <tr>\n",
       "      <th>549</th>\n",
       "      <td>Rakuen Tsuiho: Expelled from Paradise</td>\n",
       "      <td>2014</td>\n",
       "      <td>None</td>\n",
       "      <td>104</td>\n",
       "      <td>Animation, Action, Adventure</td>\n",
       "      <td>6.6</td>\n",
       "      <td>None</td>\n",
       "      <td>Seiji Mizushima</td>\n",
       "      <td>1799</td>\n",
       "      <td>0.03</td>\n",
       "    </tr>\n",
       "  </tbody>\n",
       "</table>\n",
       "</div>"
      ],
      "text/plain": [
       "                                           Title   Year Certificate Runtime  \\\n",
       "545                                    Mind Game   2004        None    103    \n",
       "546  Le grand méchant renard et autres contes...   2017           G     83    \n",
       "547               The Films of the Brothers Quay               None     78    \n",
       "548                             Bai She: Yuan qi   2019        None     99    \n",
       "549        Rakuen Tsuiho: Expelled from Paradise   2014        None    104    \n",
       "\n",
       "                            Genre  IMDB   Metascore         Director  Votes  \\\n",
       "545  Animation, Adventure, Comedy   7.7  66            Masaaki Yuasa  10196   \n",
       "546  Animation, Adventure, Comedy   7.4  73           Patrick Imbert   3454   \n",
       "547        Documentary, Animation  None        None     Stephen Quay   None   \n",
       "548  Animation, Action, Adventure   7.0  60                 Amp Wong   4890   \n",
       "549  Animation, Action, Adventure   6.6        None  Seiji Mizushima   1799   \n",
       "\n",
       "    Gross  \n",
       "545  0.04  \n",
       "546  0.04  \n",
       "547  0.04  \n",
       "548  0.03  \n",
       "549  0.03  "
      ]
     },
     "execution_count": 196,
     "metadata": {},
     "output_type": "execute_result"
    }
   ],
   "source": [
    "# remove punctuations & symbols\n",
    "data_cleaned['Gross'] = data_cleaned['Gross'].str.replace('$',\"\").str.replace('M',\"\")\n",
    "data_cleaned['Year'] = data_cleaned['Year'].str.replace('(',\"\").str.replace(')',\"\").str.replace('I',\"\")\n",
    "data_cleaned['Runtime'] = data_cleaned['Runtime'].str.replace(\"min\", \"\")\n",
    "data_cleaned['Votes'] = data_cleaned['Votes'].str.replace(\",\", \"\")\n",
    "\n",
    "data_cleaned.tail()"
   ]
  },
  {
   "cell_type": "code",
   "execution_count": null,
   "metadata": {},
   "outputs": [
    {
     "data": {
      "text/html": [
       "<div>\n",
       "<style scoped>\n",
       "    .dataframe tbody tr th:only-of-type {\n",
       "        vertical-align: middle;\n",
       "    }\n",
       "\n",
       "    .dataframe tbody tr th {\n",
       "        vertical-align: top;\n",
       "    }\n",
       "\n",
       "    .dataframe thead th {\n",
       "        text-align: right;\n",
       "    }\n",
       "</style>\n",
       "<table border=\"1\" class=\"dataframe\">\n",
       "  <thead>\n",
       "    <tr style=\"text-align: right;\">\n",
       "      <th></th>\n",
       "      <th>Title</th>\n",
       "      <th>Year</th>\n",
       "      <th>Certificate</th>\n",
       "      <th>Runtime</th>\n",
       "      <th>Genre</th>\n",
       "      <th>IMDB</th>\n",
       "      <th>Metascore</th>\n",
       "      <th>Director</th>\n",
       "      <th>Votes</th>\n",
       "      <th>Gross</th>\n",
       "    </tr>\n",
       "  </thead>\n",
       "  <tbody>\n",
       "    <tr>\n",
       "      <th>545</th>\n",
       "      <td>Mind Game</td>\n",
       "      <td>2004.0</td>\n",
       "      <td>None</td>\n",
       "      <td>103</td>\n",
       "      <td>Animation, Adventure, Comedy</td>\n",
       "      <td>7.7</td>\n",
       "      <td>66.0</td>\n",
       "      <td>Masaaki Yuasa</td>\n",
       "      <td>10196.0</td>\n",
       "      <td>0.04</td>\n",
       "    </tr>\n",
       "    <tr>\n",
       "      <th>546</th>\n",
       "      <td>Le grand méchant renard et autres contes...</td>\n",
       "      <td>2017.0</td>\n",
       "      <td>G</td>\n",
       "      <td>83</td>\n",
       "      <td>Animation, Adventure, Comedy</td>\n",
       "      <td>7.4</td>\n",
       "      <td>73.0</td>\n",
       "      <td>Patrick Imbert</td>\n",
       "      <td>3454.0</td>\n",
       "      <td>0.04</td>\n",
       "    </tr>\n",
       "    <tr>\n",
       "      <th>547</th>\n",
       "      <td>The Films of the Brothers Quay</td>\n",
       "      <td>NaN</td>\n",
       "      <td>None</td>\n",
       "      <td>78</td>\n",
       "      <td>Documentary, Animation</td>\n",
       "      <td>NaN</td>\n",
       "      <td>NaN</td>\n",
       "      <td>Stephen Quay</td>\n",
       "      <td>NaN</td>\n",
       "      <td>0.04</td>\n",
       "    </tr>\n",
       "    <tr>\n",
       "      <th>548</th>\n",
       "      <td>Bai She: Yuan qi</td>\n",
       "      <td>2019.0</td>\n",
       "      <td>None</td>\n",
       "      <td>99</td>\n",
       "      <td>Animation, Action, Adventure</td>\n",
       "      <td>7.0</td>\n",
       "      <td>60.0</td>\n",
       "      <td>Amp Wong</td>\n",
       "      <td>4890.0</td>\n",
       "      <td>0.03</td>\n",
       "    </tr>\n",
       "    <tr>\n",
       "      <th>549</th>\n",
       "      <td>Rakuen Tsuiho: Expelled from Paradise</td>\n",
       "      <td>2014.0</td>\n",
       "      <td>None</td>\n",
       "      <td>104</td>\n",
       "      <td>Animation, Action, Adventure</td>\n",
       "      <td>6.6</td>\n",
       "      <td>NaN</td>\n",
       "      <td>Seiji Mizushima</td>\n",
       "      <td>1799.0</td>\n",
       "      <td>0.03</td>\n",
       "    </tr>\n",
       "  </tbody>\n",
       "</table>\n",
       "</div>"
      ],
      "text/plain": [
       "                                           Title    Year Certificate  Runtime  \\\n",
       "545                                    Mind Game  2004.0        None      103   \n",
       "546  Le grand méchant renard et autres contes...  2017.0           G       83   \n",
       "547               The Films of the Brothers Quay     NaN        None       78   \n",
       "548                             Bai She: Yuan qi  2019.0        None       99   \n",
       "549        Rakuen Tsuiho: Expelled from Paradise  2014.0        None      104   \n",
       "\n",
       "                            Genre  IMDB  Metascore         Director    Votes  \\\n",
       "545  Animation, Adventure, Comedy   7.7       66.0    Masaaki Yuasa  10196.0   \n",
       "546  Animation, Adventure, Comedy   7.4       73.0   Patrick Imbert   3454.0   \n",
       "547        Documentary, Animation   NaN        NaN     Stephen Quay      NaN   \n",
       "548  Animation, Action, Adventure   7.0       60.0         Amp Wong   4890.0   \n",
       "549  Animation, Action, Adventure   6.6        NaN  Seiji Mizushima   1799.0   \n",
       "\n",
       "     Gross  \n",
       "545   0.04  \n",
       "546   0.04  \n",
       "547   0.04  \n",
       "548   0.03  \n",
       "549   0.03  "
      ]
     },
     "execution_count": 202,
     "metadata": {},
     "output_type": "execute_result"
    }
   ],
   "source": [
    "# change data types for selected columns\n",
    "data_cleaned[[\"Year\", \"Runtime\", \"IMDB\", \"Metascore\", \"Votes\", \"Gross\"]] = data_cleaned[[\"Year\", \"Runtime\", \"IMDB\", \"Metascore\", \"Votes\", \"Gross\"]].apply(pd.to_numeric)\n",
    "\n",
    "data_cleaned.tail()"
   ]
  },
  {
   "cell_type": "code",
   "execution_count": null,
   "metadata": {},
   "outputs": [],
   "source": [
    "# save cleaned data\n",
    "\n",
    "data_cleaned.to_csv(\"imdb_animation_data.csv\")"
   ]
  },
  {
   "cell_type": "markdown",
   "metadata": {},
   "source": [
    "EDA - Exploratory Data Analysis"
   ]
  },
  {
   "cell_type": "code",
   "execution_count": null,
   "metadata": {},
   "outputs": [
    {
     "data": {
      "text/plain": [
       "(550, 11)"
      ]
     },
     "execution_count": 6,
     "metadata": {},
     "output_type": "execute_result"
    }
   ],
   "source": [
    "data_cleaned.shape"
   ]
  },
  {
   "cell_type": "code",
   "execution_count": 24,
   "metadata": {},
   "outputs": [
    {
     "data": {
      "text/plain": [
       "Unnamed: 0       int64\n",
       "Title           object\n",
       "Year           float64\n",
       "Certificate     object\n",
       "Runtime          int64\n",
       "Genre           object\n",
       "IMDB           float64\n",
       "Metascore      float64\n",
       "Director        object\n",
       "Votes          float64\n",
       "Gross          float64\n",
       "dtype: object"
      ]
     },
     "execution_count": 24,
     "metadata": {},
     "output_type": "execute_result"
    }
   ],
   "source": [
    "data_cleaned.dtypes"
   ]
  },
  {
   "cell_type": "code",
   "execution_count": 25,
   "metadata": {},
   "outputs": [
    {
     "data": {
      "text/html": [
       "<div>\n",
       "<style scoped>\n",
       "    .dataframe tbody tr th:only-of-type {\n",
       "        vertical-align: middle;\n",
       "    }\n",
       "\n",
       "    .dataframe tbody tr th {\n",
       "        vertical-align: top;\n",
       "    }\n",
       "\n",
       "    .dataframe thead th {\n",
       "        text-align: right;\n",
       "    }\n",
       "</style>\n",
       "<table border=\"1\" class=\"dataframe\">\n",
       "  <thead>\n",
       "    <tr style=\"text-align: right;\">\n",
       "      <th></th>\n",
       "      <th>Unnamed: 0</th>\n",
       "      <th>Year</th>\n",
       "      <th>Runtime</th>\n",
       "      <th>IMDB</th>\n",
       "      <th>Metascore</th>\n",
       "      <th>Votes</th>\n",
       "      <th>Gross</th>\n",
       "    </tr>\n",
       "  </thead>\n",
       "  <tbody>\n",
       "    <tr>\n",
       "      <th>count</th>\n",
       "      <td>550.000000</td>\n",
       "      <td>549.000000</td>\n",
       "      <td>550.000000</td>\n",
       "      <td>547.000000</td>\n",
       "      <td>432.000000</td>\n",
       "      <td>5.470000e+02</td>\n",
       "      <td>550.000000</td>\n",
       "    </tr>\n",
       "    <tr>\n",
       "      <th>mean</th>\n",
       "      <td>274.500000</td>\n",
       "      <td>2004.143898</td>\n",
       "      <td>91.812727</td>\n",
       "      <td>6.628885</td>\n",
       "      <td>61.263889</td>\n",
       "      <td>9.976533e+04</td>\n",
       "      <td>62.715873</td>\n",
       "    </tr>\n",
       "    <tr>\n",
       "      <th>std</th>\n",
       "      <td>158.915596</td>\n",
       "      <td>15.670282</td>\n",
       "      <td>13.666447</td>\n",
       "      <td>0.970332</td>\n",
       "      <td>17.610501</td>\n",
       "      <td>1.717767e+05</td>\n",
       "      <td>93.624136</td>\n",
       "    </tr>\n",
       "    <tr>\n",
       "      <th>min</th>\n",
       "      <td>0.000000</td>\n",
       "      <td>1937.000000</td>\n",
       "      <td>53.000000</td>\n",
       "      <td>2.800000</td>\n",
       "      <td>12.000000</td>\n",
       "      <td>1.600000e+01</td>\n",
       "      <td>0.030000</td>\n",
       "    </tr>\n",
       "    <tr>\n",
       "      <th>25%</th>\n",
       "      <td>137.250000</td>\n",
       "      <td>1999.000000</td>\n",
       "      <td>82.000000</td>\n",
       "      <td>6.100000</td>\n",
       "      <td>49.000000</td>\n",
       "      <td>5.793000e+03</td>\n",
       "      <td>0.872500</td>\n",
       "    </tr>\n",
       "    <tr>\n",
       "      <th>50%</th>\n",
       "      <td>274.500000</td>\n",
       "      <td>2008.000000</td>\n",
       "      <td>90.000000</td>\n",
       "      <td>6.800000</td>\n",
       "      <td>62.000000</td>\n",
       "      <td>2.951400e+04</td>\n",
       "      <td>19.540000</td>\n",
       "    </tr>\n",
       "    <tr>\n",
       "      <th>75%</th>\n",
       "      <td>411.750000</td>\n",
       "      <td>2016.000000</td>\n",
       "      <td>99.000000</td>\n",
       "      <td>7.300000</td>\n",
       "      <td>74.000000</td>\n",
       "      <td>1.225520e+05</td>\n",
       "      <td>86.040000</td>\n",
       "    </tr>\n",
       "    <tr>\n",
       "      <th>max</th>\n",
       "      <td>549.000000</td>\n",
       "      <td>2023.000000</td>\n",
       "      <td>154.000000</td>\n",
       "      <td>8.600000</td>\n",
       "      <td>99.000000</td>\n",
       "      <td>1.153547e+06</td>\n",
       "      <td>608.580000</td>\n",
       "    </tr>\n",
       "  </tbody>\n",
       "</table>\n",
       "</div>"
      ],
      "text/plain": [
       "       Unnamed: 0         Year     Runtime        IMDB   Metascore  \\\n",
       "count  550.000000   549.000000  550.000000  547.000000  432.000000   \n",
       "mean   274.500000  2004.143898   91.812727    6.628885   61.263889   \n",
       "std    158.915596    15.670282   13.666447    0.970332   17.610501   \n",
       "min      0.000000  1937.000000   53.000000    2.800000   12.000000   \n",
       "25%    137.250000  1999.000000   82.000000    6.100000   49.000000   \n",
       "50%    274.500000  2008.000000   90.000000    6.800000   62.000000   \n",
       "75%    411.750000  2016.000000   99.000000    7.300000   74.000000   \n",
       "max    549.000000  2023.000000  154.000000    8.600000   99.000000   \n",
       "\n",
       "              Votes       Gross  \n",
       "count  5.470000e+02  550.000000  \n",
       "mean   9.976533e+04   62.715873  \n",
       "std    1.717767e+05   93.624136  \n",
       "min    1.600000e+01    0.030000  \n",
       "25%    5.793000e+03    0.872500  \n",
       "50%    2.951400e+04   19.540000  \n",
       "75%    1.225520e+05   86.040000  \n",
       "max    1.153547e+06  608.580000  "
      ]
     },
     "execution_count": 25,
     "metadata": {},
     "output_type": "execute_result"
    }
   ],
   "source": [
    "data_cleaned.describe()"
   ]
  },
  {
   "cell_type": "code",
   "execution_count": 29,
   "metadata": {},
   "outputs": [
    {
     "data": {
      "text/plain": [
       "Text(0, 0.5, 'Count')"
      ]
     },
     "execution_count": 29,
     "metadata": {},
     "output_type": "execute_result"
    },
    {
     "data": {
      "image/png": "[encoded data removed]",
      "text/plain": [
       "<Figure size 432x288 with 1 Axes>"
      ]
     },
     "metadata": {
      "needs_background": "light"
     },
     "output_type": "display_data"
    }
   ],
   "source": [
    "ax = data_cleaned['Year'].value_counts()\\\n",
    "        .head(10)\\\n",
    "        .plot(kind='bar')\n",
    "\n",
    "ax.set_xlabel('Year')\n",
    "ax.set_ylabel('Count')"
   ]
  },
  {
   "cell_type": "code",
   "execution_count": 36,
   "metadata": {},
   "outputs": [
    {
     "data": {
      "text/plain": [
       "<AxesSubplot:ylabel='Frequency'>"
      ]
     },
     "execution_count": 36,
     "metadata": {},
     "output_type": "execute_result"
    },
    {
     "data": {
      "image/png": "[encoded data removed]",
      "text/plain": [
       "<Figure size 432x288 with 1 Axes>"
      ]
     },
     "metadata": {
      "needs_background": "light"
     },
     "output_type": "display_data"
    }
   ],
   "source": [
    "data_cleaned['IMDB'].plot(kind='hist')"
   ]
  },
  {
   "cell_type": "code",
   "execution_count": 41,
   "metadata": {},
   "outputs": [
    {
     "data": {
      "text/plain": [
       "<AxesSubplot:ylabel='Frequency'>"
      ]
     },
     "execution_count": 41,
     "metadata": {},
     "output_type": "execute_result"
    },
    {
     "data": {
      "image/png": "[encoded data removed]",
      "text/plain": [
       "<Figure size 432x288 with 1 Axes>"
      ]
     },
     "metadata": {
      "needs_background": "light"
     },
     "output_type": "display_data"
    }
   ],
   "source": [
    "data_cleaned['Metascore'].plot(kind='hist', bins=20)"
   ]
  },
  {
   "cell_type": "markdown",
   "metadata": {},
   "source": [
    "EDA - Relationships"
   ]
  },
  {
   "cell_type": "code",
   "execution_count": 43,
   "metadata": {},
   "outputs": [
    {
     "data": {
      "text/plain": [
       "<AxesSubplot:xlabel='Runtime', ylabel='Gross'>"
      ]
     },
     "execution_count": 43,
     "metadata": {},
     "output_type": "execute_result"
    },
    {
     "data": {
      "image/png": "[encoded data removed]",
      "text/plain": [
       "<Figure size 432x288 with 1 Axes>"
      ]
     },
     "metadata": {
      "needs_background": "light"
     },
     "output_type": "display_data"
    }
   ],
   "source": [
    "data_cleaned.plot(kind='scatter', x='Runtime', y='Gross')"
   ]
  },
  {
   "cell_type": "code",
   "execution_count": 48,
   "metadata": {},
   "outputs": [
    {
     "data": {
      "text/plain": [
       "<AxesSubplot:xlabel='Runtime', ylabel='Gross'>"
      ]
     },
     "execution_count": 48,
     "metadata": {},
     "output_type": "execute_result"
    },
    {
     "data": {
      "image/png": "[encoded data removed]",
      "text/plain": [
       "<Figure size 432x288 with 1 Axes>"
      ]
     },
     "metadata": {
      "needs_background": "light"
     },
     "output_type": "display_data"
    }
   ],
   "source": [
    "data_cleaned.head(50).plot(kind='scatter', x='Runtime', y='Gross')"
   ]
  },
  {
   "cell_type": "code",
   "execution_count": 44,
   "metadata": {},
   "outputs": [
    {
     "data": {
      "text/plain": [
       "<AxesSubplot:xlabel='IMDB', ylabel='Gross'>"
      ]
     },
     "execution_count": 44,
     "metadata": {},
     "output_type": "execute_result"
    },
    {
     "data": {
      "image/png": "[encoded data removed]",
      "text/plain": [
       "<Figure size 432x288 with 1 Axes>"
      ]
     },
     "metadata": {
      "needs_background": "light"
     },
     "output_type": "display_data"
    }
   ],
   "source": [
    "data_cleaned.plot(kind='scatter', x='IMDB', y='Gross')"
   ]
  },
  {
   "cell_type": "code",
   "execution_count": 45,
   "metadata": {},
   "outputs": [
    {
     "data": {
      "text/plain": [
       "<AxesSubplot:xlabel='Metascore', ylabel='Gross'>"
      ]
     },
     "execution_count": 45,
     "metadata": {},
     "output_type": "execute_result"
    },
    {
     "data": {
      "image/png": "[encoded data removed]",
      "text/plain": [
       "<Figure size 432x288 with 1 Axes>"
      ]
     },
     "metadata": {
      "needs_background": "light"
     },
     "output_type": "display_data"
    }
   ],
   "source": [
    "data_cleaned.plot(kind='scatter', x='Metascore', y='Gross')"
   ]
  },
  {
   "cell_type": "code",
   "execution_count": 46,
   "metadata": {},
   "outputs": [
    {
     "data": {
      "text/plain": [
       "<AxesSubplot:xlabel='Year', ylabel='Gross'>"
      ]
     },
     "execution_count": 46,
     "metadata": {},
     "output_type": "execute_result"
    },
    {
     "data": {
      "image/png": "[encoded data removed]",
      "text/plain": [
       "<Figure size 432x288 with 1 Axes>"
      ]
     },
     "metadata": {
      "needs_background": "light"
     },
     "output_type": "display_data"
    }
   ],
   "source": [
    "data_cleaned.plot(kind='scatter', x='Year', y='Gross')"
   ]
  },
  {
   "cell_type": "code",
   "execution_count": 54,
   "metadata": {},
   "outputs": [
    {
     "data": {
      "text/plain": [
       "<AxesSubplot:xlabel='Year', ylabel='Gross'>"
      ]
     },
     "execution_count": 54,
     "metadata": {},
     "output_type": "execute_result"
    },
    {
     "data": {
      "image/png": "[encoded data removed]",
      "text/plain": [
       "<Figure size 432x288 with 1 Axes>"
      ]
     },
     "metadata": {
      "needs_background": "light"
     },
     "output_type": "display_data"
    }
   ],
   "source": [
    "sns.scatterplot(x='Year', y='Gross',\n",
    "                hue='IMDB',\n",
    "                data=data_cleaned)"
   ]
  },
  {
   "cell_type": "code",
   "execution_count": 51,
   "metadata": {},
   "outputs": [
    {
     "data": {
      "text/html": [
       "<div>\n",
       "<style scoped>\n",
       "    .dataframe tbody tr th:only-of-type {\n",
       "        vertical-align: middle;\n",
       "    }\n",
       "\n",
       "    .dataframe tbody tr th {\n",
       "        vertical-align: top;\n",
       "    }\n",
       "\n",
       "    .dataframe thead th {\n",
       "        text-align: right;\n",
       "    }\n",
       "</style>\n",
       "<table border=\"1\" class=\"dataframe\">\n",
       "  <thead>\n",
       "    <tr style=\"text-align: right;\">\n",
       "      <th></th>\n",
       "      <th>Year</th>\n",
       "      <th>Runtime</th>\n",
       "      <th>IMDB</th>\n",
       "      <th>Metascore</th>\n",
       "      <th>Gross</th>\n",
       "    </tr>\n",
       "  </thead>\n",
       "  <tbody>\n",
       "    <tr>\n",
       "      <th>Year</th>\n",
       "      <td>1.000000</td>\n",
       "      <td>0.303764</td>\n",
       "      <td>-0.142399</td>\n",
       "      <td>-0.179835</td>\n",
       "      <td>0.123077</td>\n",
       "    </tr>\n",
       "    <tr>\n",
       "      <th>Runtime</th>\n",
       "      <td>0.303764</td>\n",
       "      <td>1.000000</td>\n",
       "      <td>0.249211</td>\n",
       "      <td>0.119253</td>\n",
       "      <td>0.143018</td>\n",
       "    </tr>\n",
       "    <tr>\n",
       "      <th>IMDB</th>\n",
       "      <td>-0.142399</td>\n",
       "      <td>0.249211</td>\n",
       "      <td>1.000000</td>\n",
       "      <td>0.816975</td>\n",
       "      <td>0.181314</td>\n",
       "    </tr>\n",
       "    <tr>\n",
       "      <th>Metascore</th>\n",
       "      <td>-0.179835</td>\n",
       "      <td>0.119253</td>\n",
       "      <td>0.816975</td>\n",
       "      <td>1.000000</td>\n",
       "      <td>0.194465</td>\n",
       "    </tr>\n",
       "    <tr>\n",
       "      <th>Gross</th>\n",
       "      <td>0.123077</td>\n",
       "      <td>0.143018</td>\n",
       "      <td>0.181314</td>\n",
       "      <td>0.194465</td>\n",
       "      <td>1.000000</td>\n",
       "    </tr>\n",
       "  </tbody>\n",
       "</table>\n",
       "</div>"
      ],
      "text/plain": [
       "               Year   Runtime      IMDB  Metascore     Gross\n",
       "Year       1.000000  0.303764 -0.142399  -0.179835  0.123077\n",
       "Runtime    0.303764  1.000000  0.249211   0.119253  0.143018\n",
       "IMDB      -0.142399  0.249211  1.000000   0.816975  0.181314\n",
       "Metascore -0.179835  0.119253  0.816975   1.000000  0.194465\n",
       "Gross      0.123077  0.143018  0.181314   0.194465  1.000000"
      ]
     },
     "execution_count": 51,
     "metadata": {},
     "output_type": "execute_result"
    }
   ],
   "source": [
    "# correlation\n",
    "data_cleaned[['Year', 'Runtime', 'IMDB', 'Metascore', 'Gross']].dropna().corr()"
   ]
  }
 ],
 "metadata": {
  "kernelspec": {
   "display_name": "base",
   "language": "python",
   "name": "python3"
  },
  "language_info": {
   "codemirror_mode": {
    "name": "ipython",
    "version": 3
   },
   "file_extension": ".py",
   "mimetype": "text/x-python",
   "name": "python",
   "nbconvert_exporter": "python",
   "pygments_lexer": "ipython3",
   "version": "3.9.12"
  },
  "orig_nbformat": 4
 },
 "nbformat": 4,
 "nbformat_minor": 2
}
